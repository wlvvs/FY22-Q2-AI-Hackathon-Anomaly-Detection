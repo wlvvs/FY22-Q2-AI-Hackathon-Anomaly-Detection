{
  "nbformat": 4,
  "nbformat_minor": 0,
  "metadata": {
    "colab": {
      "name": "AnomalyDetection.ipynb",
      "provenance": [],
      "authorship_tag": "ABX9TyMs0tRZNY5NuDmF640njle/",
      "include_colab_link": true
    },
    "kernelspec": {
      "name": "python3",
      "display_name": "Python 3"
    },
    "language_info": {
      "name": "python"
    }
  },
  "cells": [
    {
      "cell_type": "markdown",
      "metadata": {
        "id": "view-in-github",
        "colab_type": "text"
      },
      "source": [
        "<a href=\"https://colab.research.google.com/github/wlvvs/FY22-Q2-AI-Hackathon-Anomaly-Detection/blob/master/notebooks/AnomalyDetection.ipynb\" target=\"_parent\"><img src=\"https://colab.research.google.com/assets/colab-badge.svg\" alt=\"Open In Colab\"/></a>"
      ]
    },
    {
      "cell_type": "code",
      "execution_count": 78,
      "metadata": {
        "id": "yYyDoETAyMzf"
      },
      "outputs": [],
      "source": [
        "import pandas as pd"
      ]
    },
    {
      "cell_type": "markdown",
      "source": [
        "Dentro del repositorio de Github que se estará usando, está el dataset base con el cual se da inicio al análisis de información"
      ],
      "metadata": {
        "id": "qaBx2xluh5ck"
      }
    },
    {
      "cell_type": "code",
      "source": [
        "url ='https://raw.githubusercontent.com/wlvvs/FY22-Q2-AI-Hackathon-Anomaly-Detection/master/data/raw/ABCDPublishingStatistics2017-2022_Master.csv'"
      ],
      "metadata": {
        "id": "f9_tp_bqbpDq"
      },
      "execution_count": 79,
      "outputs": []
    },
    {
      "cell_type": "code",
      "source": [
        "df = pd.read_csv(url,sep='|')"
      ],
      "metadata": {
        "id": "hj5wmKss3sED"
      },
      "execution_count": 80,
      "outputs": []
    },
    {
      "cell_type": "code",
      "source": [
        "df.shape"
      ],
      "metadata": {
        "colab": {
          "base_uri": "https://localhost:8080/"
        },
        "id": "VpNbzAw4KJCg",
        "outputId": "3e713c85-b93f-4c80-e844-6b06dd744863"
      },
      "execution_count": 81,
      "outputs": [
        {
          "output_type": "execute_result",
          "data": {
            "text/plain": [
              "(11719, 27)"
            ]
          },
          "metadata": {},
          "execution_count": 81
        }
      ]
    },
    {
      "cell_type": "markdown",
      "source": [
        "El dataset consta de 27 filas y 11719 columnas y está separado por medio del símbolo pipe (|). Para realizar el análisis, se realizará una extracción de columnas con base en la utilidad al momento de definir un método de entrenamiento"
      ],
      "metadata": {
        "id": "Kl7Lf6RBiHjj"
      }
    },
    {
      "cell_type": "code",
      "source": [
        "df.info()"
      ],
      "metadata": {
        "id": "aLzaydcMySNL",
        "colab": {
          "base_uri": "https://localhost:8080/"
        },
        "outputId": "364941ab-c942-403d-a77d-efa99ae55b70"
      },
      "execution_count": 82,
      "outputs": [
        {
          "output_type": "stream",
          "name": "stdout",
          "text": [
            "<class 'pandas.core.frame.DataFrame'>\n",
            "RangeIndex: 11719 entries, 0 to 11718\n",
            "Data columns (total 27 columns):\n",
            " #   Column              Non-Null Count  Dtype \n",
            "---  ------              --------------  ----- \n",
            " 0   PKG_ID              11719 non-null  object\n",
            " 1   PKG_JURIS           11719 non-null  object\n",
            " 2   PKG_STATUS          11719 non-null  object\n",
            " 3   PKG_TITLE           11719 non-null  object\n",
            " 4   PKG_ISSUE_DATE      11719 non-null  object\n",
            " 5   PKG_EFFECTIVE_DATE  11719 non-null  object\n",
            " 6   PKG_APPROVAL_DATE   11719 non-null  object\n",
            " 7   PKG_SUBMIT_DATE     11245 non-null  object\n",
            " 8   PKG_RDY_DATE        11245 non-null  object\n",
            " 9   PKG_FILED_DATE      11719 non-null  object\n",
            " 10  PKG_PRINT_REQ_FLAG  2173 non-null   object\n",
            " 11  PKG_DELETE_FLAG     11719 non-null  object\n",
            " 12  PKG_FILING_NO       11719 non-null  object\n",
            " 13  PKG_CREATE_DATE     11719 non-null  object\n",
            " 14  PKG_ORG             11719 non-null  int64 \n",
            " 15  PKG_RET_WHOL        11719 non-null  int64 \n",
            " 16  PKG_PROJ_TYPE       11719 non-null  int64 \n",
            " 17  PKG_FILING_TYPE     11719 non-null  int64 \n",
            " 18  PKG_BUS_UNIT        11719 non-null  int64 \n",
            " 19  PKG_ADVICE_LETTER   11719 non-null  int64 \n",
            " 20  PKG_STATE_SPECF1    4036 non-null   object\n",
            " 21  PKG_STATE_SPECF2    3632 non-null   object\n",
            " 22  PKG_STATE_SPECF3    4923 non-null   object\n",
            " 23  PKG_STATE_SPECF4    3382 non-null   object\n",
            " 24  PKG_PUBLISHED_DATE  11669 non-null  object\n",
            " 25  PKG_VISIBLE         11719 non-null  object\n",
            " 26  PKG_AUTO_PROCESS    11719 non-null  object\n",
            "dtypes: int64(6), object(21)\n",
            "memory usage: 2.4+ MB\n"
          ]
        }
      ]
    },
    {
      "cell_type": "code",
      "source": [
        "df = df[['PKG_ID', 'PKG_JURIS', 'PKG_ISSUE_DATE', 'PKG_EFFECTIVE_DATE', 'PKG_APPROVAL_DATE', 'PKG_FILED_DATE','PKG_CREATE_DATE', 'PKG_ORG', 'PKG_RET_WHOL', 'PKG_PROJ_TYPE', 'PKG_FILING_TYPE', 'PKG_BUS_UNIT', 'PKG_ADVICE_LETTER', 'PKG_PUBLISHED_DATE', 'PKG_AUTO_PROCESS']]"
      ],
      "metadata": {
        "id": "CkFqUJh0skME"
      },
      "execution_count": 83,
      "outputs": []
    },
    {
      "cell_type": "code",
      "source": [
        "df.shape"
      ],
      "metadata": {
        "id": "uik492Olt0KA",
        "outputId": "e861c54a-ca25-4d37-cff9-2f570b80816b",
        "colab": {
          "base_uri": "https://localhost:8080/"
        }
      },
      "execution_count": 84,
      "outputs": [
        {
          "output_type": "execute_result",
          "data": {
            "text/plain": [
              "(11719, 15)"
            ]
          },
          "metadata": {},
          "execution_count": 84
        }
      ]
    },
    {
      "cell_type": "code",
      "source": [
        "df.isna().sum()"
      ],
      "metadata": {
        "id": "atPCuvsc4g8L",
        "outputId": "bc204e03-42fa-468b-987f-c2429f1fc219",
        "colab": {
          "base_uri": "https://localhost:8080/"
        }
      },
      "execution_count": 85,
      "outputs": [
        {
          "output_type": "execute_result",
          "data": {
            "text/plain": [
              "PKG_ID                 0\n",
              "PKG_JURIS              0\n",
              "PKG_ISSUE_DATE         0\n",
              "PKG_EFFECTIVE_DATE     0\n",
              "PKG_APPROVAL_DATE      0\n",
              "PKG_FILED_DATE         0\n",
              "PKG_CREATE_DATE        0\n",
              "PKG_ORG                0\n",
              "PKG_RET_WHOL           0\n",
              "PKG_PROJ_TYPE          0\n",
              "PKG_FILING_TYPE        0\n",
              "PKG_BUS_UNIT           0\n",
              "PKG_ADVICE_LETTER      0\n",
              "PKG_PUBLISHED_DATE    50\n",
              "PKG_AUTO_PROCESS       0\n",
              "dtype: int64"
            ]
          },
          "metadata": {},
          "execution_count": 85
        }
      ]
    },
    {
      "cell_type": "code",
      "source": [
        "df = df.dropna()"
      ],
      "metadata": {
        "id": "5IUhEhif4eSH"
      },
      "execution_count": 91,
      "outputs": []
    },
    {
      "cell_type": "code",
      "source": [
        "df.isna().sum()"
      ],
      "metadata": {
        "id": "TjX8uO125oLP",
        "outputId": "30d74b1b-0cd2-4d14-da1d-f20006c2cb69",
        "colab": {
          "base_uri": "https://localhost:8080/"
        }
      },
      "execution_count": 92,
      "outputs": [
        {
          "output_type": "execute_result",
          "data": {
            "text/plain": [
              "PKG_ID                0\n",
              "PKG_JURIS             0\n",
              "PKG_ISSUE_DATE        0\n",
              "PKG_EFFECTIVE_DATE    0\n",
              "PKG_APPROVAL_DATE     0\n",
              "PKG_FILED_DATE        0\n",
              "PKG_CREATE_DATE       0\n",
              "PKG_ORG               0\n",
              "PKG_RET_WHOL          0\n",
              "PKG_PROJ_TYPE         0\n",
              "PKG_FILING_TYPE       0\n",
              "PKG_BUS_UNIT          0\n",
              "PKG_ADVICE_LETTER     0\n",
              "PKG_PUBLISHED_DATE    0\n",
              "PKG_AUTO_PROCESS      0\n",
              "dtype: int64"
            ]
          },
          "metadata": {},
          "execution_count": 92
        }
      ]
    },
    {
      "cell_type": "code",
      "source": [
        "df.info()"
      ],
      "metadata": {
        "id": "e-4X8iLEucG9",
        "outputId": "de781a09-e707-40d7-f684-3feeae58cb18",
        "colab": {
          "base_uri": "https://localhost:8080/"
        }
      },
      "execution_count": 93,
      "outputs": [
        {
          "output_type": "stream",
          "name": "stdout",
          "text": [
            "<class 'pandas.core.frame.DataFrame'>\n",
            "Int64Index: 11669 entries, 0 to 11718\n",
            "Data columns (total 15 columns):\n",
            " #   Column              Non-Null Count  Dtype \n",
            "---  ------              --------------  ----- \n",
            " 0   PKG_ID              11669 non-null  object\n",
            " 1   PKG_JURIS           11669 non-null  object\n",
            " 2   PKG_ISSUE_DATE      11669 non-null  object\n",
            " 3   PKG_EFFECTIVE_DATE  11669 non-null  object\n",
            " 4   PKG_APPROVAL_DATE   11669 non-null  object\n",
            " 5   PKG_FILED_DATE      11669 non-null  object\n",
            " 6   PKG_CREATE_DATE     11669 non-null  object\n",
            " 7   PKG_ORG             11669 non-null  int64 \n",
            " 8   PKG_RET_WHOL        11669 non-null  int64 \n",
            " 9   PKG_PROJ_TYPE       11669 non-null  int64 \n",
            " 10  PKG_FILING_TYPE     11669 non-null  int64 \n",
            " 11  PKG_BUS_UNIT        11669 non-null  int64 \n",
            " 12  PKG_ADVICE_LETTER   11669 non-null  int64 \n",
            " 13  PKG_PUBLISHED_DATE  11669 non-null  object\n",
            " 14  PKG_AUTO_PROCESS    11669 non-null  object\n",
            "dtypes: int64(6), object(9)\n",
            "memory usage: 1.4+ MB\n"
          ]
        }
      ]
    },
    {
      "cell_type": "code",
      "source": [
        "df.sample(3)"
      ],
      "metadata": {
        "id": "JOBoyeq3xUEn",
        "outputId": "e3fe965d-e887-4e0a-fa86-73c845dc968f",
        "colab": {
          "base_uri": "https://localhost:8080/",
          "height": 259
        }
      },
      "execution_count": 94,
      "outputs": [
        {
          "output_type": "execute_result",
          "data": {
            "text/html": [
              "\n",
              "  <div id=\"df-3660a154-1456-4771-9079-51294de7f09d\">\n",
              "    <div class=\"colab-df-container\">\n",
              "      <div>\n",
              "<style scoped>\n",
              "    .dataframe tbody tr th:only-of-type {\n",
              "        vertical-align: middle;\n",
              "    }\n",
              "\n",
              "    .dataframe tbody tr th {\n",
              "        vertical-align: top;\n",
              "    }\n",
              "\n",
              "    .dataframe thead th {\n",
              "        text-align: right;\n",
              "    }\n",
              "</style>\n",
              "<table border=\"1\" class=\"dataframe\">\n",
              "  <thead>\n",
              "    <tr style=\"text-align: right;\">\n",
              "      <th></th>\n",
              "      <th>PKG_ID</th>\n",
              "      <th>PKG_JURIS</th>\n",
              "      <th>PKG_ISSUE_DATE</th>\n",
              "      <th>PKG_EFFECTIVE_DATE</th>\n",
              "      <th>PKG_APPROVAL_DATE</th>\n",
              "      <th>PKG_FILED_DATE</th>\n",
              "      <th>PKG_CREATE_DATE</th>\n",
              "      <th>PKG_ORG</th>\n",
              "      <th>PKG_RET_WHOL</th>\n",
              "      <th>PKG_PROJ_TYPE</th>\n",
              "      <th>PKG_FILING_TYPE</th>\n",
              "      <th>PKG_BUS_UNIT</th>\n",
              "      <th>PKG_ADVICE_LETTER</th>\n",
              "      <th>PKG_PUBLISHED_DATE</th>\n",
              "      <th>PKG_AUTO_PROCESS</th>\n",
              "    </tr>\n",
              "  </thead>\n",
              "  <tbody>\n",
              "    <tr>\n",
              "      <th>8405</th>\n",
              "      <td>FC-20-0004</td>\n",
              "      <td>FCC</td>\n",
              "      <td>16/06/2020 00:00</td>\n",
              "      <td>01/07/2020 00:00</td>\n",
              "      <td>01/07/2020 06:30</td>\n",
              "      <td>16/06/2020 10:45</td>\n",
              "      <td>09/06/2020 10:21</td>\n",
              "      <td>8</td>\n",
              "      <td>0</td>\n",
              "      <td>2</td>\n",
              "      <td>5</td>\n",
              "      <td>34</td>\n",
              "      <td>0</td>\n",
              "      <td>01/07/2020 08:23</td>\n",
              "      <td>N</td>\n",
              "    </tr>\n",
              "    <tr>\n",
              "      <th>2762</th>\n",
              "      <td>FC-17-0036</td>\n",
              "      <td>FCC</td>\n",
              "      <td>15/12/2017 00:00</td>\n",
              "      <td>01/01/2018 00:00</td>\n",
              "      <td>01/01/2018 07:30</td>\n",
              "      <td>14/12/2017 16:44</td>\n",
              "      <td>06/12/2017 09:42</td>\n",
              "      <td>2</td>\n",
              "      <td>0</td>\n",
              "      <td>0</td>\n",
              "      <td>0</td>\n",
              "      <td>0</td>\n",
              "      <td>0</td>\n",
              "      <td>02/01/2018 11:19</td>\n",
              "      <td>N</td>\n",
              "    </tr>\n",
              "    <tr>\n",
              "      <th>981</th>\n",
              "      <td>SC-17-0040</td>\n",
              "      <td>SOUTH CAROLINA</td>\n",
              "      <td>10/04/2017 00:00</td>\n",
              "      <td>10/04/2017 00:00</td>\n",
              "      <td>10/04/2017 06:30</td>\n",
              "      <td>30/03/2017 09:15</td>\n",
              "      <td>28/03/2017 08:56</td>\n",
              "      <td>1</td>\n",
              "      <td>1</td>\n",
              "      <td>12</td>\n",
              "      <td>2</td>\n",
              "      <td>1</td>\n",
              "      <td>0</td>\n",
              "      <td>10/04/2017 07:28</td>\n",
              "      <td>Z</td>\n",
              "    </tr>\n",
              "  </tbody>\n",
              "</table>\n",
              "</div>\n",
              "      <button class=\"colab-df-convert\" onclick=\"convertToInteractive('df-3660a154-1456-4771-9079-51294de7f09d')\"\n",
              "              title=\"Convert this dataframe to an interactive table.\"\n",
              "              style=\"display:none;\">\n",
              "        \n",
              "  <svg xmlns=\"http://www.w3.org/2000/svg\" height=\"24px\"viewBox=\"0 0 24 24\"\n",
              "       width=\"24px\">\n",
              "    <path d=\"M0 0h24v24H0V0z\" fill=\"none\"/>\n",
              "    <path d=\"M18.56 5.44l.94 2.06.94-2.06 2.06-.94-2.06-.94-.94-2.06-.94 2.06-2.06.94zm-11 1L8.5 8.5l.94-2.06 2.06-.94-2.06-.94L8.5 2.5l-.94 2.06-2.06.94zm10 10l.94 2.06.94-2.06 2.06-.94-2.06-.94-.94-2.06-.94 2.06-2.06.94z\"/><path d=\"M17.41 7.96l-1.37-1.37c-.4-.4-.92-.59-1.43-.59-.52 0-1.04.2-1.43.59L10.3 9.45l-7.72 7.72c-.78.78-.78 2.05 0 2.83L4 21.41c.39.39.9.59 1.41.59.51 0 1.02-.2 1.41-.59l7.78-7.78 2.81-2.81c.8-.78.8-2.07 0-2.86zM5.41 20L4 18.59l7.72-7.72 1.47 1.35L5.41 20z\"/>\n",
              "  </svg>\n",
              "      </button>\n",
              "      \n",
              "  <style>\n",
              "    .colab-df-container {\n",
              "      display:flex;\n",
              "      flex-wrap:wrap;\n",
              "      gap: 12px;\n",
              "    }\n",
              "\n",
              "    .colab-df-convert {\n",
              "      background-color: #E8F0FE;\n",
              "      border: none;\n",
              "      border-radius: 50%;\n",
              "      cursor: pointer;\n",
              "      display: none;\n",
              "      fill: #1967D2;\n",
              "      height: 32px;\n",
              "      padding: 0 0 0 0;\n",
              "      width: 32px;\n",
              "    }\n",
              "\n",
              "    .colab-df-convert:hover {\n",
              "      background-color: #E2EBFA;\n",
              "      box-shadow: 0px 1px 2px rgba(60, 64, 67, 0.3), 0px 1px 3px 1px rgba(60, 64, 67, 0.15);\n",
              "      fill: #174EA6;\n",
              "    }\n",
              "\n",
              "    [theme=dark] .colab-df-convert {\n",
              "      background-color: #3B4455;\n",
              "      fill: #D2E3FC;\n",
              "    }\n",
              "\n",
              "    [theme=dark] .colab-df-convert:hover {\n",
              "      background-color: #434B5C;\n",
              "      box-shadow: 0px 1px 3px 1px rgba(0, 0, 0, 0.15);\n",
              "      filter: drop-shadow(0px 1px 2px rgba(0, 0, 0, 0.3));\n",
              "      fill: #FFFFFF;\n",
              "    }\n",
              "  </style>\n",
              "\n",
              "      <script>\n",
              "        const buttonEl =\n",
              "          document.querySelector('#df-3660a154-1456-4771-9079-51294de7f09d button.colab-df-convert');\n",
              "        buttonEl.style.display =\n",
              "          google.colab.kernel.accessAllowed ? 'block' : 'none';\n",
              "\n",
              "        async function convertToInteractive(key) {\n",
              "          const element = document.querySelector('#df-3660a154-1456-4771-9079-51294de7f09d');\n",
              "          const dataTable =\n",
              "            await google.colab.kernel.invokeFunction('convertToInteractive',\n",
              "                                                     [key], {});\n",
              "          if (!dataTable) return;\n",
              "\n",
              "          const docLinkHtml = 'Like what you see? Visit the ' +\n",
              "            '<a target=\"_blank\" href=https://colab.research.google.com/notebooks/data_table.ipynb>data table notebook</a>'\n",
              "            + ' to learn more about interactive tables.';\n",
              "          element.innerHTML = '';\n",
              "          dataTable['output_type'] = 'display_data';\n",
              "          await google.colab.output.renderOutput(dataTable, element);\n",
              "          const docLink = document.createElement('div');\n",
              "          docLink.innerHTML = docLinkHtml;\n",
              "          element.appendChild(docLink);\n",
              "        }\n",
              "      </script>\n",
              "    </div>\n",
              "  </div>\n",
              "  "
            ],
            "text/plain": [
              "          PKG_ID       PKG_JURIS  ... PKG_PUBLISHED_DATE PKG_AUTO_PROCESS\n",
              "8405  FC-20-0004             FCC  ...   01/07/2020 08:23                N\n",
              "2762  FC-17-0036             FCC  ...   02/01/2018 11:19                N\n",
              "981   SC-17-0040  SOUTH CAROLINA  ...   10/04/2017 07:28                Z\n",
              "\n",
              "[3 rows x 15 columns]"
            ]
          },
          "metadata": {},
          "execution_count": 94
        }
      ]
    },
    {
      "cell_type": "markdown",
      "source": [
        "La mayoria de los campos vienen expresados como objetos, lo cual puede significar un problema al momento de trabajar con dicha información, por lo que se tienen que transformar en un tipo de dato establecido que permita la gestión de la información.\n",
        "Comenzaremos por cambiar la definición de objeto y colocarla como datos de tipo fecha o cadenas de caracteres según sea el caso necesario"
      ],
      "metadata": {
        "id": "OyNr9VB5jCEx"
      }
    },
    {
      "cell_type": "code",
      "source": [
        "df_dates= df[['PKG_ISSUE_DATE', 'PKG_EFFECTIVE_DATE', 'PKG_APPROVAL_DATE', 'PKG_FILED_DATE','PKG_CREATE_DATE', 'PKG_PUBLISHED_DATE']]"
      ],
      "metadata": {
        "id": "-F311pSQ2R7R"
      },
      "execution_count": 95,
      "outputs": []
    },
    {
      "cell_type": "code",
      "source": [
        "import dateutil.parser\n",
        "\n",
        "all_true = True\n",
        "for row in df_dates.values:\n",
        "    flag = True\n",
        "    print(row)\n",
        "    for i in range(len(row[:-1])):\n",
        "        \n",
        "        try:\n",
        "            parsed1 = dateutil.parser.parse(row[i],  dayfirst=True)\n",
        "            parsed2 = dateutil.parser.parse(row[i+1], dayfirst=True)\n",
        "            \n",
        "            print(parsed1, type(parsed1))\n",
        "            print(parsed2, type(parsed2))\n",
        "\n",
        "            flag = flag and (parsed1 <= parsed2)\n",
        "        except Exception as e:\n",
        "            flag = True\n",
        "\n",
        "        if not flag:\n",
        "            break\n",
        "    \n",
        "    all_true = all_true and flag\n",
        "    if not all_true:\n",
        "        print(row)\n",
        "        # break\n",
        "\n",
        "    break\n",
        "\n",
        "print(all_true)"
      ],
      "metadata": {
        "colab": {
          "base_uri": "https://localhost:8080/"
        },
        "id": "daIixD6Dy9iR",
        "outputId": "9f50557f-427b-4217-db35-0b9ed6e5e148"
      },
      "execution_count": 96,
      "outputs": [
        {
          "output_type": "stream",
          "name": "stdout",
          "text": [
            "['01/01/2017 00:00' '01/01/2017 00:00' '01/01/2017 06:30'\n",
            " '17/11/2016 08:36' '23/09/2016 14:41' '01/01/2017 07:25']\n",
            "2017-01-01 00:00:00 <class 'datetime.datetime'>\n",
            "2017-01-01 00:00:00 <class 'datetime.datetime'>\n",
            "2017-01-01 00:00:00 <class 'datetime.datetime'>\n",
            "2017-01-01 06:30:00 <class 'datetime.datetime'>\n",
            "2017-01-01 06:30:00 <class 'datetime.datetime'>\n",
            "2016-11-17 08:36:00 <class 'datetime.datetime'>\n",
            "['01/01/2017 00:00' '01/01/2017 00:00' '01/01/2017 06:30'\n",
            " '17/11/2016 08:36' '23/09/2016 14:41' '01/01/2017 07:25']\n",
            "False\n"
          ]
        }
      ]
    },
    {
      "cell_type": "code",
      "source": [
        "df.info()"
      ],
      "metadata": {
        "colab": {
          "base_uri": "https://localhost:8080/"
        },
        "id": "I56ukkpIyz1N",
        "outputId": "4468c68c-e484-4314-aeb5-327cd56a66f2"
      },
      "execution_count": 97,
      "outputs": [
        {
          "output_type": "stream",
          "name": "stdout",
          "text": [
            "<class 'pandas.core.frame.DataFrame'>\n",
            "Int64Index: 11669 entries, 0 to 11718\n",
            "Data columns (total 15 columns):\n",
            " #   Column              Non-Null Count  Dtype \n",
            "---  ------              --------------  ----- \n",
            " 0   PKG_ID              11669 non-null  object\n",
            " 1   PKG_JURIS           11669 non-null  object\n",
            " 2   PKG_ISSUE_DATE      11669 non-null  object\n",
            " 3   PKG_EFFECTIVE_DATE  11669 non-null  object\n",
            " 4   PKG_APPROVAL_DATE   11669 non-null  object\n",
            " 5   PKG_FILED_DATE      11669 non-null  object\n",
            " 6   PKG_CREATE_DATE     11669 non-null  object\n",
            " 7   PKG_ORG             11669 non-null  int64 \n",
            " 8   PKG_RET_WHOL        11669 non-null  int64 \n",
            " 9   PKG_PROJ_TYPE       11669 non-null  int64 \n",
            " 10  PKG_FILING_TYPE     11669 non-null  int64 \n",
            " 11  PKG_BUS_UNIT        11669 non-null  int64 \n",
            " 12  PKG_ADVICE_LETTER   11669 non-null  int64 \n",
            " 13  PKG_PUBLISHED_DATE  11669 non-null  object\n",
            " 14  PKG_AUTO_PROCESS    11669 non-null  object\n",
            "dtypes: int64(6), object(9)\n",
            "memory usage: 1.4+ MB\n"
          ]
        }
      ]
    },
    {
      "cell_type": "code",
      "source": [
        "df.columns"
      ],
      "metadata": {
        "colab": {
          "base_uri": "https://localhost:8080/"
        },
        "id": "eLM3As9TKXpV",
        "outputId": "5811dd13-1875-45b9-e11f-fb03c2773eae"
      },
      "execution_count": 100,
      "outputs": [
        {
          "output_type": "execute_result",
          "data": {
            "text/plain": [
              "Index(['PKG_ID', 'PKG_JURIS', 'PKG_ISSUE_DATE', 'PKG_EFFECTIVE_DATE',\n",
              "       'PKG_APPROVAL_DATE', 'PKG_FILED_DATE', 'PKG_CREATE_DATE', 'PKG_ORG',\n",
              "       'PKG_RET_WHOL', 'PKG_PROJ_TYPE', 'PKG_FILING_TYPE', 'PKG_BUS_UNIT',\n",
              "       'PKG_ADVICE_LETTER', 'PKG_PUBLISHED_DATE', 'PKG_AUTO_PROCESS'],\n",
              "      dtype='object')"
            ]
          },
          "metadata": {},
          "execution_count": 100
        }
      ]
    },
    {
      "cell_type": "code",
      "source": [
        "df.values"
      ],
      "metadata": {
        "colab": {
          "base_uri": "https://localhost:8080/"
        },
        "id": "4iA7zIt6LndX",
        "outputId": "805ea65c-9084-4d41-c511-1ec351bfa5da"
      },
      "execution_count": 99,
      "outputs": [
        {
          "output_type": "execute_result",
          "data": {
            "text/plain": [
              "array([['AL-17-0002', 'ALABAMA', '01/01/2017 00:00', ..., 0,\n",
              "        '01/01/2017 07:25', 'Z'],\n",
              "       ['LA-17-0001', 'LOUISIANA', '01/01/2017 00:00', ..., 0,\n",
              "        '01/01/2017 07:28', 'Z'],\n",
              "       ['LA-17-0002', 'LOUISIANA', '01/01/2017 00:00', ..., 0,\n",
              "        '01/01/2017 07:28', 'Z'],\n",
              "       ...,\n",
              "       ['TX-22-0013', 'TEXAS', '15/02/2022 00:00', ..., 0,\n",
              "        '15/02/2022 11:35', 'N'],\n",
              "       ['WG-22-0008', 'WISCONSIN', '15/02/2022 00:00', ..., 0,\n",
              "        '15/02/2022 07:02', 'N'],\n",
              "       ['SC-22-0008', 'SOUTH CAROLINA', '15/02/2022 00:00', ..., 0,\n",
              "        '15/02/2022 07:05', 'Z']], dtype=object)"
            ]
          },
          "metadata": {},
          "execution_count": 99
        }
      ]
    },
    {
      "cell_type": "markdown",
      "source": [
        "Revisa el caso que investigaste en liga y replantea tu modelo\n",
        "https://www.statology.org/logistic-regression-python/"
      ],
      "metadata": {
        "id": "EQGxbeRjRRo_"
      }
    }
  ]
}